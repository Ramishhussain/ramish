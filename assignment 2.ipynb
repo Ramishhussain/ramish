{
 "cells": [
  {
   "cell_type": "code",
   "execution_count": 1,
   "metadata": {
    "collapsed": false
   },
   "outputs": [
    {
     "name": "stdout",
     "output_type": "stream",
     "text": [
      "Please, Enter marks of urdu= 75\n",
      "Please, Enter marks of English= 65\n",
      "Please, Enter marks of Maths= 92\n",
      "Please, Enter marks of PST= 65\n",
      "Please, Enter marks of islamiat= 43\n",
      "You have got 75marks in urdu with grade of ''B''\n",
      "You have got 65marks in English with grade of ''B''\n",
      "You have got 92marks in Maths with grade of ''A''\n",
      "You have got 65marks in PST with grade of ''B''\n",
      "You have got 43marks in islamiat with grade of ''F''\n",
      "You have achieve 340 marks out of 500 with percentage of 68.0\n"
     ]
    }
   ],
   "source": [
    "subjects = [\"urdu\", \"English\", \"Maths\", \"PST\", \"islamiat\"]\n",
    "marks = []\n",
    "grade = []\n",
    "total_marks = 0\n",
    "percentage = 0\n",
    "\n",
    "for subject in subjects:\n",
    "    mark = int(input(\"Please, Enter marks of \"+subject+\"= \"))\n",
    "    marks.append(mark)\n",
    "    total_marks += mark\n",
    "    \n",
    "percentage = ((total_marks/500)*100)\n",
    "\n",
    "for mark in marks:\n",
    "    if 85 <= mark <= 100:\n",
    "        grade.append(\"A\")\n",
    "    if 65 <= mark <= 84:\n",
    "        grade.append(\"B\")\n",
    "    if 45 <= mark <= 64:\n",
    "        grade.append(\"C\")\n",
    "    if mark < 45:\n",
    "        grade.append(\"F\")\n",
    "        \n",
    "for Course_num in range(len(subjects)):\n",
    "    print(\"You have got \"+ str(marks[Course_num]) + \"marks in \" + str(subjects[Course_num])+ \" with grade of \" +\"''\"+str(grade[Course_num])+\"''\")\n",
    "    \n",
    "print(\"You have achieve \"+str(total_marks)+\" marks out of 500 with percentage of \" + str(percentage))"
   ]
  },
  {
   "cell_type": "code",
   "execution_count": 2,
   "metadata": {
    "collapsed": false
   },
   "outputs": [
    {
     "name": "stdout",
     "output_type": "stream",
     "text": [
      "please give the number to identify = 45\n",
      "Given number is odd\n"
     ]
    }
   ],
   "source": [
    "number_to_identify = int(input(\"please give the number to identify = \"))\n",
    "if number_to_identify % 2 ==0:\n",
    "    print(\"Your number is Even\")\n",
    "else:\n",
    "    print(\"Given number is odd\")"
   ]
  },
  {
   "cell_type": "code",
   "execution_count": 3,
   "metadata": {
    "collapsed": false
   },
   "outputs": [
    {
     "name": "stdout",
     "output_type": "stream",
     "text": [
      "4\n"
     ]
    }
   ],
   "source": [
    "Name = [\"Ramish\", \"Ali mughal\",\"Saad hamid\", \"Mosh Hamedani\"]\n",
    "print(len(Name))"
   ]
  },
  {
   "cell_type": "code",
   "execution_count": 4,
   "metadata": {
    "collapsed": false
   },
   "outputs": [
    {
     "name": "stdout",
     "output_type": "stream",
     "text": [
      "Total of list is = 175.6\n"
     ]
    }
   ],
   "source": [
    "numbers = [100,5,6,23,9.0,23.6,9]\n",
    "total = 0\n",
    "for number in numbers:\n",
    "    total += number\n",
    "print(\"Total of list is = \" + str(total))"
   ]
  },
  {
   "cell_type": "code",
   "execution_count": 5,
   "metadata": {
    "collapsed": false
   },
   "outputs": [
    {
     "name": "stdout",
     "output_type": "stream",
     "text": [
      "6000000000\n"
     ]
    }
   ],
   "source": [
    "numbers = [50000,100,5,6,23,9.0,6000000000,23.6,9,1000]\n",
    "largest_number = 0\n",
    "for number in numbers:\n",
    "    if number > largest_number:\n",
    "        largest_number = number\n",
    "print(largest_number)\n"
   ]
  },
  {
   "cell_type": "code",
   "execution_count": 6,
   "metadata": {
    "collapsed": false
   },
   "outputs": [
    {
     "name": "stdout",
     "output_type": "stream",
     "text": [
      "1\n",
      "1\n",
      "2\n",
      "3\n"
     ]
    }
   ],
   "source": [
    "a = [1, 1, 2, 3, 5, 8, 13, 21, 34, 55, 89]\n",
    "for number in a:\n",
    "    if number < 5:\n",
    "        print(number)"
   ]
  },
  {
   "cell_type": "code",
   "execution_count": null,
   "metadata": {
    "collapsed": true
   },
   "outputs": [],
   "source": []
  }
 ],
 "metadata": {
  "kernelspec": {
   "display_name": "Python [Root]",
   "language": "python",
   "name": "Python [Root]"
  },
  "language_info": {
   "codemirror_mode": {
    "name": "ipython",
    "version": 3
   },
   "file_extension": ".py",
   "mimetype": "text/x-python",
   "name": "python",
   "nbconvert_exporter": "python",
   "pygments_lexer": "ipython3",
   "version": "3.5.2"
  }
 },
 "nbformat": 4,
 "nbformat_minor": 0
}
