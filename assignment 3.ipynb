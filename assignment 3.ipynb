{
 "cells": [
  {
   "cell_type": "code",
   "execution_count": 4,
   "metadata": {
    "collapsed": false
   },
   "outputs": [
    {
     "ename": "SyntaxError",
     "evalue": "invalid syntax (<ipython-input-4-101ded78418d>, line 10)",
     "output_type": "error",
     "traceback": [
      "\u001b[1;36m  File \u001b[1;32m\"<ipython-input-4-101ded78418d>\"\u001b[1;36m, line \u001b[1;32m10\u001b[0m\n\u001b[1;33m    print(f\"The number you entered are {input1} and {input2}\")\u001b[0m\n\u001b[1;37m                                                            ^\u001b[0m\n\u001b[1;31mSyntaxError\u001b[0m\u001b[1;31m:\u001b[0m invalid syntax\n"
     ]
    }
   ],
   "source": [
    "operands = {\n",
    "    '+' : operator.add,\n",
    "    '-' : operator.sub,\n",
    "    'x' : operator.mul,\n",
    "    '/' : operator.truediv,\n",
    "    '*' : operator.pow\n",
    "}\n",
    "input1 = int(input(\"please enter 1st number = \"))\n",
    "input2 = int(input(\"please enter 2nd number = \"))\n",
    "print(f\"The number you entered are {input1} and {input2}\")\n",
    "selected_operand = input(f\"\"\"\n",
    "select Your the operation\n",
    "press:\n",
    "'+' for addition\n",
    "'-' for  subtraction\n",
    "'x' for multiplication\n",
    "'/' for division\n",
    "'*' for power\n",
    "\"\"\")\n",
    "\n",
    "operand = operands[selected_operand]\n",
    "result = operand(input1,input2)\n",
    "print(result)"
   ]
  },
  {
   "cell_type": "code",
   "execution_count": 5,
   "metadata": {
    "collapsed": false
   },
   "outputs": [
    {
     "name": "stdout",
     "output_type": "stream",
     "text": [
      "yes, there is an item having numerical value 23\n",
      "yes, there is an item having numerical value 69\n",
      "yes, there is an item having numerical value 78\n"
     ]
    }
   ],
   "source": [
    "# 2. Write a program to check if there is any numeric value in list using for loop\n",
    "_list = ['a', 's', 23, 'd', 69, 'p',78,'09']\n",
    "for items in _list:\n",
    "    if isinstance(items, int):\n",
    "        print(\"yes, there is an item having numerical value\", items)"
   ]
  },
  {
   "cell_type": "code",
   "execution_count": 7,
   "metadata": {
    "collapsed": false
   },
   "outputs": [
    {
     "name": "stdout",
     "output_type": "stream",
     "text": [
      "Enter the key45\n",
      "Enter the value54\n"
     ]
    },
    {
     "data": {
      "text/plain": [
       "{'45': '54', 'Name': 'ramish', 'course': 'Python'}"
      ]
     },
     "execution_count": 7,
     "metadata": {},
     "output_type": "execute_result"
    }
   ],
   "source": [
    "# 3. Write a Python script to add a key to a dictionary\n",
    "Student ={\n",
    "    \"Name\":\"ramish\",\n",
    "    \"course\":\"Python\"\n",
    "}\n",
    "key = input(\"Enter the key\")\n",
    "value = input(\"Enter the value\")\n",
    "\n",
    "Student[key] = value\n",
    "Student"
   ]
  },
  {
   "cell_type": "code",
   "execution_count": 8,
   "metadata": {
    "collapsed": false
   },
   "outputs": [
    {
     "name": "stdout",
     "output_type": "stream",
     "text": [
      "The total of your grossery is =  1000\n"
     ]
    }
   ],
   "source": [
    "# Write a Python program to sum all the numeric items in a dictionary\n",
    "grossery = {\n",
    "    \"chinese_salt\":\"free\",\n",
    "    \"oil\":300,\n",
    "    \"sugar\":200,\n",
    "    \"rice\":500\n",
    "}\n",
    "total = 0\n",
    "for rates in grossery.values():\n",
    "    if isinstance(rates,int):\n",
    "        total += rates\n",
    "\n",
    "print(\"The total of your grossery is = \",total)"
   ]
  },
  {
   "cell_type": "code",
   "execution_count": 9,
   "metadata": {
    "collapsed": false
   },
   "outputs": [
    {
     "name": "stdout",
     "output_type": "stream",
     "text": [
      "The total of your grossery is =  1000\n"
     ]
    }
   ],
   "source": [
    "# Write a Python program to sum all the numeric items in a dictionary\n",
    "grossery = {\n",
    "    \"chinese_salt\":\"free\",\n",
    "    \"oil\":300,\n",
    "    \"sugar\":200,\n",
    "    \"rice\":500\n",
    "}\n",
    "total = 0\n",
    "for rates in grossery.values():\n",
    "    if isinstance(rates,int):\n",
    "        total += rates\n",
    "\n",
    "print(\"The total of your grossery is = \",total)"
   ]
  },
  {
   "cell_type": "code",
   "execution_count": 10,
   "metadata": {
    "collapsed": false
   },
   "outputs": [
    {
     "name": "stdout",
     "output_type": "stream",
     "text": [
      "fr has duplicate\n",
      "1 has duplicate\n",
      "5 has duplicate\n",
      "7 has duplicate\n",
      "4 has duplicate\n",
      "s has duplicate\n"
     ]
    }
   ],
   "source": [
    "# 5. Write a program to identify duplicate values from list\n",
    "dup_lis = ['fr',1,1,3,5,5,7,7,'4','s','s','fr','4']\n",
    "for items in dup_lis:\n",
    "    checked_lumber = items\n",
    "    new_lis = []\n",
    "    dup_lis.remove(checked_lumber)\n",
    "    new_lis = dup_lis\n",
    "#     print(new_lis)\n",
    "    for lumbers in new_lis:\n",
    "        if str(checked_lumber) == str(lumbers):\n",
    "           print(checked_lumber,\"has duplicate\")\n",
    "           break"
   ]
  },
  {
   "cell_type": "code",
   "execution_count": 11,
   "metadata": {
    "collapsed": false
   },
   "outputs": [
    {
     "name": "stdout",
     "output_type": "stream",
     "text": [
      "Enter a key to check if it is available or not = rice\n",
      "Entered Key already exist\n",
      "\n"
     ]
    }
   ],
   "source": [
    "# Write a Python script to check if a given key already exists in a dictionary\n",
    "grossery = {\n",
    "    \"chinese_salt\":\"free\",\n",
    "    \"oil\":300,\n",
    "    \"sugar\":200,\n",
    "    \"rice\":500\n",
    "}\n",
    "\n",
    "key_to_check = input(\"Enter a key to check if it is available or not = \")\n",
    "\n",
    "for rates in grossery.keys():\n",
    "    for iterations in range(len(grossery)):\n",
    "        if key_to_check == rates:\n",
    "            print(\"Entered Key already exist\")\n",
    "            break\n",
    "if key_to_check in grossery.keys():\n",
    "    print(\"\")\n",
    "else:\n",
    "    print(\"not exist\")"
   ]
  },
  {
   "cell_type": "code",
   "execution_count": null,
   "metadata": {
    "collapsed": true
   },
   "outputs": [],
   "source": []
  }
 ],
 "metadata": {
  "kernelspec": {
   "display_name": "Python [Root]",
   "language": "python",
   "name": "Python [Root]"
  },
  "language_info": {
   "codemirror_mode": {
    "name": "ipython",
    "version": 3
   },
   "file_extension": ".py",
   "mimetype": "text/x-python",
   "name": "python",
   "nbconvert_exporter": "python",
   "pygments_lexer": "ipython3",
   "version": "3.5.2"
  }
 },
 "nbformat": 4,
 "nbformat_minor": 0
}
